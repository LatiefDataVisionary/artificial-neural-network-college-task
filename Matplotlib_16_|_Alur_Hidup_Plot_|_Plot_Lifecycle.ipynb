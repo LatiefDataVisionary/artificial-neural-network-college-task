{
  "nbformat": 4,
  "nbformat_minor": 0,
  "metadata": {
    "colab": {
      "provenance": [],
      "authorship_tag": "ABX9TyNqYasj7Hm5R2k5vPZBWzNe",
      "include_colab_link": true
    },
    "kernelspec": {
      "name": "python3",
      "display_name": "Python 3"
    },
    "language_info": {
      "name": "python"
    }
  },
  "cells": [
    {
      "cell_type": "markdown",
      "metadata": {
        "id": "view-in-github",
        "colab_type": "text"
      },
      "source": [
        "<a href=\"https://colab.research.google.com/github/LatiefDataVisionary/artificial-neural-network-college-task/blob/main/Matplotlib_16_%7C_Alur_Hidup_Plot_%7C_Plot_Lifecycle.ipynb\" target=\"_parent\"><img src=\"https://colab.research.google.com/assets/colab-badge.svg\" alt=\"Open In Colab\"/></a>"
      ]
    },
    {
      "cell_type": "markdown",
      "source": [
        "## **Matplotlib 16 | Alur Hidup Plot | Plot Lifecycle | Belajar Matplotlib Dasar | Visualisasi Data**\n"
      ],
      "metadata": {
        "id": "wSpilJXhMcBl"
      }
    },
    {
      "cell_type": "code",
      "execution_count": 1,
      "metadata": {
        "colab": {
          "base_uri": "https://localhost:8080/"
        },
        "id": "hNG2vrrJMVq6",
        "outputId": "484c6d74-9f22-4b19-ad67-b02e3c82f984"
      },
      "outputs": [
        {
          "output_type": "stream",
          "name": "stdout",
          "text": [
            "3.10.0\n",
            "2.0.2\n",
            "2.2.2\n"
          ]
        }
      ],
      "source": [
        "import matplotlib\n",
        "import matplotlib.pyplot as plt\n",
        "import pandas as pd\n",
        "import numpy as np\n",
        "\n",
        "print(matplotlib.__version__)\n",
        "print(np.__version__)\n",
        "print(pd.__version__)"
      ]
    },
    {
      "cell_type": "markdown",
      "source": [
        "### **Sample Dataset**"
      ],
      "metadata": {
        "id": "Y7NfM3GuO8Gf"
      }
    },
    {
      "cell_type": "code",
      "source": [
        "data = {'Item A': 109438,\n",
        "'Item B': 103569,\n",
        "'Item C': 112214,\n",
        "'Item D': 112591,\n",
        "'Item E': 100934,\n",
        "'Item F': 103660,\n",
        "'Item G': 137351,\n",
        "'Item H': 123381,\n",
        "'Item I': 135841,\n",
        "'Item J': 104437}\n",
        "\n",
        "data"
      ],
      "metadata": {
        "colab": {
          "base_uri": "https://localhost:8080/"
        },
        "id": "qY6KcnSSO8V3",
        "outputId": "14c616a3-e576-42bf-a30f-6f518b07e016"
      },
      "execution_count": 2,
      "outputs": [
        {
          "output_type": "execute_result",
          "data": {
            "text/plain": [
              "{'Item A': 109438,\n",
              " 'Item B': 103569,\n",
              " 'Item C': 112214,\n",
              " 'Item D': 112591,\n",
              " 'Item E': 100934,\n",
              " 'Item F': 103660,\n",
              " 'Item G': 137351,\n",
              " 'Item H': 123381,\n",
              " 'Item I': 135841,\n",
              " 'Item J': 104437}"
            ]
          },
          "metadata": {},
          "execution_count": 2
        }
      ]
    },
    {
      "cell_type": "code",
      "source": [
        "items = tuple(data.keys())\n",
        "items"
      ],
      "metadata": {
        "colab": {
          "base_uri": "https://localhost:8080/"
        },
        "id": "5PT6_FELPeMa",
        "outputId": "71a42c58-b650-4fed-c474-d77c5c22e62b"
      },
      "execution_count": 3,
      "outputs": [
        {
          "output_type": "execute_result",
          "data": {
            "text/plain": [
              "('Item A',\n",
              " 'Item B',\n",
              " 'Item C',\n",
              " 'Item D',\n",
              " 'Item E',\n",
              " 'Item F',\n",
              " 'Item G',\n",
              " 'Item H',\n",
              " 'Item I',\n",
              " 'Item J')"
            ]
          },
          "metadata": {},
          "execution_count": 3
        }
      ]
    },
    {
      "cell_type": "code",
      "source": [
        "data.keys()"
      ],
      "metadata": {
        "colab": {
          "base_uri": "https://localhost:8080/"
        },
        "id": "cqmYYcL4P76B",
        "outputId": "8e00a52b-b53b-4057-f417-01d56c6f304f"
      },
      "execution_count": 5,
      "outputs": [
        {
          "output_type": "execute_result",
          "data": {
            "text/plain": [
              "dict_keys(['Item A', 'Item B', 'Item C', 'Item D', 'Item E', 'Item F', 'Item G', 'Item H', 'Item I', 'Item J'])"
            ]
          },
          "metadata": {},
          "execution_count": 5
        }
      ]
    },
    {
      "cell_type": "code",
      "source": [
        "count = tuple(data.values())\n",
        "count"
      ],
      "metadata": {
        "colab": {
          "base_uri": "https://localhost:8080/"
        },
        "id": "6SK92sJmPh51",
        "outputId": "5797ce1b-a40f-4a58-95ae-e516ae2d133e"
      },
      "execution_count": 4,
      "outputs": [
        {
          "output_type": "execute_result",
          "data": {
            "text/plain": [
              "(109438,\n",
              " 103569,\n",
              " 112214,\n",
              " 112591,\n",
              " 100934,\n",
              " 103660,\n",
              " 137351,\n",
              " 123381,\n",
              " 135841,\n",
              " 104437)"
            ]
          },
          "metadata": {},
          "execution_count": 4
        }
      ]
    },
    {
      "cell_type": "code",
      "source": [
        "data.values()"
      ],
      "metadata": {
        "colab": {
          "base_uri": "https://localhost:8080/"
        },
        "id": "cKo1twhOP8aA",
        "outputId": "e8b73132-3432-48c8-a8bd-e628857bfe88"
      },
      "execution_count": 7,
      "outputs": [
        {
          "output_type": "execute_result",
          "data": {
            "text/plain": [
              "dict_values([109438, 103569, 112214, 112591, 100934, 103660, 137351, 123381, 135841, 104437])"
            ]
          },
          "metadata": {},
          "execution_count": 7
        }
      ]
    }
  ]
}