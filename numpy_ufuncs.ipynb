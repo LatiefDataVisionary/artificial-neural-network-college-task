{
  "nbformat": 4,
  "nbformat_minor": 0,
  "metadata": {
    "colab": {
      "provenance": [],
      "authorship_tag": "ABX9TyP0v0uTf3S57b3ocUuj7cLc",
      "include_colab_link": true
    },
    "kernelspec": {
      "name": "python3",
      "display_name": "Python 3"
    },
    "language_info": {
      "name": "python"
    }
  },
  "cells": [
    {
      "cell_type": "markdown",
      "metadata": {
        "id": "view-in-github",
        "colab_type": "text"
      },
      "source": [
        "<a href=\"https://colab.research.google.com/github/LatiefDataVisionary/artificial-neural-network-college-task/blob/main/numpy_ufuncs.ipynb\" target=\"_parent\"><img src=\"https://colab.research.google.com/assets/colab-badge.svg\" alt=\"Open In Colab\"/></a>"
      ]
    },
    {
      "cell_type": "markdown",
      "source": [
        "# **1. ufuncs Intro**"
      ],
      "metadata": {
        "id": "QhBvIelbs3eQ"
      }
    },
    {
      "cell_type": "markdown",
      "source": [
        "Without ufunc, we can use Python's built-in zip() method:\n",
        "\n"
      ],
      "metadata": {
        "id": "vXVYpCh6tALc"
      }
    },
    {
      "cell_type": "code",
      "execution_count": 5,
      "metadata": {
        "colab": {
          "base_uri": "https://localhost:8080/"
        },
        "id": "MfV5Ji8sfi2m",
        "outputId": "8c23b596-ad79-4708-9ef8-09afdecdaa91"
      },
      "outputs": [
        {
          "output_type": "execute_result",
          "data": {
            "text/plain": [
              "[5, 7, 9, 11]"
            ]
          },
          "metadata": {},
          "execution_count": 5
        }
      ],
      "source": [
        "x = [1,2,3,4]\n",
        "y = [4,5,6,7]\n",
        "z=[]\n",
        "\n",
        "for i, j in zip(x,y):\n",
        "  z.append(i+j)\n",
        "z"
      ]
    },
    {
      "cell_type": "markdown",
      "source": [
        "With ufunc, we can use the add() function:\n",
        "\n"
      ],
      "metadata": {
        "id": "eMLZrMs5tPlf"
      }
    },
    {
      "cell_type": "code",
      "source": [
        "import numpy as np\n",
        "\n",
        "x = [1, 2, 3, 4]\n",
        "y = [4, 5, 6, 7]\n",
        "z = np.add(x,y)\n",
        "z"
      ],
      "metadata": {
        "colab": {
          "base_uri": "https://localhost:8080/"
        },
        "id": "CD29wIi9tT24",
        "outputId": "a3f0d7b2-45f9-48be-f72c-534decb8d108"
      },
      "execution_count": 3,
      "outputs": [
        {
          "output_type": "execute_result",
          "data": {
            "text/plain": [
              "array([ 5,  7,  9, 11])"
            ]
          },
          "metadata": {},
          "execution_count": 3
        }
      ]
    }
  ]
}