{
  "nbformat": 4,
  "nbformat_minor": 0,
  "metadata": {
    "colab": {
      "provenance": [],
      "authorship_tag": "ABX9TyNmW0C4ILZTn1H7u2oyIelb",
      "include_colab_link": true
    },
    "kernelspec": {
      "name": "python3",
      "display_name": "Python 3"
    },
    "language_info": {
      "name": "python"
    }
  },
  "cells": [
    {
      "cell_type": "markdown",
      "metadata": {
        "id": "view-in-github",
        "colab_type": "text"
      },
      "source": [
        "<a href=\"https://colab.research.google.com/github/LatiefDataVisionary/artificial-neural-network-college-task/blob/main/numpy_ufuncs.ipynb\" target=\"_parent\"><img src=\"https://colab.research.google.com/assets/colab-badge.svg\" alt=\"Open In Colab\"/></a>"
      ]
    },
    {
      "cell_type": "markdown",
      "source": [
        "# **1. ufuncs Intro**"
      ],
      "metadata": {
        "id": "QhBvIelbs3eQ"
      }
    },
    {
      "cell_type": "markdown",
      "source": [
        "Without ufunc, we can use Python's built-in zip() method:\n",
        "\n"
      ],
      "metadata": {
        "id": "vXVYpCh6tALc"
      }
    },
    {
      "cell_type": "code",
      "execution_count": 5,
      "metadata": {
        "colab": {
          "base_uri": "https://localhost:8080/"
        },
        "id": "MfV5Ji8sfi2m",
        "outputId": "8c23b596-ad79-4708-9ef8-09afdecdaa91"
      },
      "outputs": [
        {
          "output_type": "execute_result",
          "data": {
            "text/plain": [
              "[5, 7, 9, 11]"
            ]
          },
          "metadata": {},
          "execution_count": 5
        }
      ],
      "source": [
        "x = [1,2,3,4]\n",
        "y = [4,5,6,7]\n",
        "z=[]\n",
        "\n",
        "for i, j in zip(x,y):\n",
        "  z.append(i+j)\n",
        "z"
      ]
    },
    {
      "cell_type": "markdown",
      "source": [
        "With ufunc, we can use the add() function:\n",
        "\n"
      ],
      "metadata": {
        "id": "eMLZrMs5tPlf"
      }
    },
    {
      "cell_type": "code",
      "source": [
        "import numpy as np\n",
        "\n",
        "x = [1, 2, 3, 4]\n",
        "y = [4, 5, 6, 7]\n",
        "z = np.add(x,y)\n",
        "z"
      ],
      "metadata": {
        "colab": {
          "base_uri": "https://localhost:8080/"
        },
        "id": "CD29wIi9tT24",
        "outputId": "a3f0d7b2-45f9-48be-f72c-534decb8d108"
      },
      "execution_count": 3,
      "outputs": [
        {
          "output_type": "execute_result",
          "data": {
            "text/plain": [
              "array([ 5,  7,  9, 11])"
            ]
          },
          "metadata": {},
          "execution_count": 3
        }
      ]
    },
    {
      "cell_type": "markdown",
      "source": [
        "# **2. ufuncs Create Function**"
      ],
      "metadata": {
        "id": "S0GjH-ZQtpEm"
      }
    },
    {
      "cell_type": "markdown",
      "source": [
        "Create your own ufunc for addition:\n",
        "\n"
      ],
      "metadata": {
        "id": "dtw9UKOnuCtN"
      }
    },
    {
      "cell_type": "code",
      "source": [
        "def myadd(x,y):\n",
        "  return x+y\n",
        "\n",
        "myadd = np.frompyfunc(myadd, 2, 1)\n",
        "myadd([1,2,3,4], [5,6,7,8])"
      ],
      "metadata": {
        "colab": {
          "base_uri": "https://localhost:8080/"
        },
        "id": "etWcMiusuD-e",
        "outputId": "36d72896-d29c-4f4e-ccd8-48c9af480f30"
      },
      "execution_count": 12,
      "outputs": [
        {
          "output_type": "execute_result",
          "data": {
            "text/plain": [
              "array([6, 8, 10, 12], dtype=object)"
            ]
          },
          "metadata": {},
          "execution_count": 12
        }
      ]
    },
    {
      "cell_type": "markdown",
      "source": [
        "Check if a function is a ufunc:\n",
        "\n"
      ],
      "metadata": {
        "id": "0jTjGgsowxOV"
      }
    },
    {
      "cell_type": "code",
      "source": [
        "type(np.add)"
      ],
      "metadata": {
        "colab": {
          "base_uri": "https://localhost:8080/"
        },
        "id": "OAahw65twx6e",
        "outputId": "c6bdeca8-22e1-44cf-e248-9ece176701ca"
      },
      "execution_count": 13,
      "outputs": [
        {
          "output_type": "execute_result",
          "data": {
            "text/plain": [
              "numpy.ufunc"
            ]
          },
          "metadata": {},
          "execution_count": 13
        }
      ]
    },
    {
      "cell_type": "markdown",
      "source": [
        "Check the type of another function: concatenate():\n",
        "\n"
      ],
      "metadata": {
        "id": "JjcTR1p0w5b9"
      }
    },
    {
      "cell_type": "code",
      "source": [
        "type(np.concatenate)"
      ],
      "metadata": {
        "colab": {
          "base_uri": "https://localhost:8080/"
        },
        "id": "oy7-P4yNw3ux",
        "outputId": "ac14b513-87eb-40ed-9f82-7631c6737ff2"
      },
      "execution_count": 14,
      "outputs": [
        {
          "output_type": "execute_result",
          "data": {
            "text/plain": [
              "numpy._ArrayFunctionDispatcher"
            ]
          },
          "metadata": {},
          "execution_count": 14
        }
      ]
    },
    {
      "cell_type": "markdown",
      "source": [
        "Use an if statement to check if the function is a ufunc or not:\n",
        "\n"
      ],
      "metadata": {
        "id": "QU7IcB19xJzM"
      }
    },
    {
      "cell_type": "code",
      "source": [
        "if type(np.add) == np.ufunc:\n",
        "  print('add is ufunc')\n",
        "else:\n",
        "  print('add is not ufunc')"
      ],
      "metadata": {
        "colab": {
          "base_uri": "https://localhost:8080/"
        },
        "id": "OfAnTFsVxKn_",
        "outputId": "9e475250-14ab-4855-a390-77de00fa7f82"
      },
      "execution_count": 15,
      "outputs": [
        {
          "output_type": "stream",
          "name": "stdout",
          "text": [
            "add is ufunc\n"
          ]
        }
      ]
    }
  ]
}